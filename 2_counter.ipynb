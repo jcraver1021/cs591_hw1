{
 "cells": [
  {
   "cell_type": "markdown",
   "metadata": {},
   "source": [
    "# Running Counter"
   ]
  },
  {
   "cell_type": "code",
   "execution_count": null,
   "metadata": {},
   "outputs": [],
   "source": [
    "# AGENCY CODE\n",
    "\n",
    "import numpy as np\n",
    "\n",
    "class Agency:\n",
    "    \"\"\"\n",
    "    This class acts as the service, also known as the agency,\n",
    "    which holds the secret vector x and responds with the vector, plus some random noise\n",
    "    \"\"\"\n",
    "    def __init__(self, n):\n",
    "        \"\"\"\n",
    "        n: the size of the secret binary vector (length = number of entries)\n",
    "        sigma: standard deviation of gaussian noise in each response\n",
    "        \"\"\"\n",
    "        \n",
    "        self._n = n\n",
    "        self._x = np.random.randint(2, size=self._n)\n",
    "        self._z = np.random.randint(2, size=self._n)\n",
    "    \n",
    "    @property\n",
    "    def n(self):\n",
    "        return self._n\n",
    "    \n",
    "    def get_extra_information(mu):\n",
    "        \"\"\"\n",
    "        For each element of the secret vector, generate a Bernoulli random variable, \n",
    "        returning x with probability mu and 1 - x with probability 1 - mu\n",
    "        \n",
    "        Input\n",
    "            mu: probability of true answer\n",
    "        Output:\n",
    "            a vector representing a probabilistic view of x\n",
    "        \"\"\"\n",
    "        return np.vectorize(lambda xi, mu: xi if random.random() > (1 - mu) else 1 - xi)(x, mu)\n",
    "    \n",
    "    def query(self):\n",
    "        \"\"\"\n",
    "        Input\n",
    "            None (there is only one query allowed, which agency will generate)\n",
    "        Output\n",
    "            1/n B @ x, with gaussian noise added, mean 0, stddev sigma\n",
    "        \"\"\"\n",
    "        \n",
    "        return np.tril(np.ones((self._n, self._n))) @ self._x + self._z\n",
    "    \n",
    "    def guess(self, x1):\n",
    "        \"\"\"\n",
    "        Input\n",
    "            x1: Vector you guess to be secret vector\n",
    "        Output\n",
    "            Honest answer of fraction of correct bits in x\n",
    "        \"\"\"\n",
    "        return np.count_nonzero(self._x == x1) / self._n\n",
    "\n",
    "# TODO: Include mechanism to provide \"extra information\" vector to attacker with truth value mu (bernoulli random variable)"
   ]
  },
  {
   "cell_type": "code",
   "execution_count": null,
   "metadata": {},
   "outputs": [],
   "source": [
    "# ATTACKER CODE\n",
    "\n",
    "def attack_running_counter(agcy, get_extra):\n",
    "    w1 = agcy.query()\n",
    "    x1 = np.random.randint(2, size=agcy.n)\n",
    "    mask = np.ones(agcy.n)\n",
    "    return agcy.guess(x1)\n",
    "    # TODO try to deduce some of the bits of x based on the query result"
   ]
  },
  {
   "cell_type": "code",
   "execution_count": null,
   "metadata": {},
   "outputs": [],
   "source": [
    "# TEST SUITE\n",
    "\n",
    "n_values = [100, 500, 1000, 5000]\n",
    "\n",
    "for n in n_values:\n",
    "    ag = Agency(n)\n",
    "    attack_running_counter(ag, False)\n"
   ]
  },
  {
   "cell_type": "code",
   "execution_count": null,
   "metadata": {},
   "outputs": [],
   "source": []
  }
 ],
 "metadata": {
  "kernelspec": {
   "display_name": "Python 3",
   "language": "python",
   "name": "python3"
  },
  "language_info": {
   "codemirror_mode": {
    "name": "ipython",
    "version": 3
   },
   "file_extension": ".py",
   "mimetype": "text/x-python",
   "name": "python",
   "nbconvert_exporter": "python",
   "pygments_lexer": "ipython3",
   "version": "3.6.5"
  }
 },
 "nbformat": 4,
 "nbformat_minor": 2
}
